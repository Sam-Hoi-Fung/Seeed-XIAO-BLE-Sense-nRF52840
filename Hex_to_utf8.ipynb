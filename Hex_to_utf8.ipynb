{
 "cells": [
  {
   "cell_type": "code",
   "execution_count": 2,
   "id": "a8ed29e4-e17a-4b5b-beb6-36baea445fc9",
   "metadata": {},
   "outputs": [
    {
     "name": "stdout",
     "output_type": "stream",
     "text": [
      "XIAO BLE Sense\n"
     ]
    }
   ],
   "source": [
    "# Hexadecimal string\n",
    "hex_string = \"5849414F20424C452053656E7365\"\n",
    "\n",
    "# Step 1: Convert hexadecimal string to byte array\n",
    "byte_array = bytes.fromhex(hex_string)\n",
    "\n",
    "# Step 2: Decode byte array to UTF-8 string\n",
    "utf8_string = byte_array.decode('utf-8')\n",
    "\n",
    "# Print the result\n",
    "print(utf8_string)\n"
   ]
  },
  {
   "cell_type": "code",
   "execution_count": 3,
   "id": "45bd2741-29f0-419a-873d-a1befb7459d5",
   "metadata": {},
   "outputs": [
    {
     "name": "stdout",
     "output_type": "stream",
     "text": [
      "0.3299, 0.9433, -0.0313, 1.0500, -0.9800, -0.0700 \n"
     ]
    }
   ],
   "source": [
    "# Hexadecimal string\n",
    "hex_string = \"302E333239392C20302E393433332C202D302E303331332C20312E303530302C202D302E393830302C202D302E3037303020\"\n",
    "\n",
    "# Step 1: Convert hexadecimal string to byte array\n",
    "byte_array = bytes.fromhex(hex_string)\n",
    "\n",
    "# Step 2: Decode byte array to UTF-8 string\n",
    "utf8_string = byte_array.decode('utf-8')\n",
    "\n",
    "# Print the result\n",
    "print(utf8_string)\n"
   ]
  },
  {
   "cell_type": "code",
   "execution_count": 1,
   "id": "d1c494fd-9dd3-4931-8f15-7cc58528fab0",
   "metadata": {},
   "outputs": [
    {
     "name": "stdout",
     "output_type": "stream",
     "text": [
      "\u0000\u0000\n"
     ]
    }
   ],
   "source": [
    "# Hexadecimal string\n",
    "hex_string = \"0000\"\n",
    "\n",
    "# Step 1: Convert hexadecimal string to byte array\n",
    "byte_array = bytes.fromhex(hex_string)\n",
    "\n",
    "# Step 2: Decode byte array to UTF-8 string\n",
    "utf8_string = byte_array.decode('utf-8')\n",
    "\n",
    "# Print the result\n",
    "print(utf8_string)"
   ]
  },
  {
   "cell_type": "code",
   "execution_count": null,
   "id": "32bb8cea-c7ae-41aa-b3ea-e606cb559c48",
   "metadata": {},
   "outputs": [],
   "source": []
  }
 ],
 "metadata": {
  "kernelspec": {
   "display_name": "Python 3 (ipykernel)",
   "language": "python",
   "name": "python3"
  },
  "language_info": {
   "codemirror_mode": {
    "name": "ipython",
    "version": 3
   },
   "file_extension": ".py",
   "mimetype": "text/x-python",
   "name": "python",
   "nbconvert_exporter": "python",
   "pygments_lexer": "ipython3",
   "version": "3.11.7"
  }
 },
 "nbformat": 4,
 "nbformat_minor": 5
}
